{
 "cells": [
  {
   "cell_type": "code",
   "execution_count": 1,
   "metadata": {
    "collapsed": false
   },
   "outputs": [
    {
     "name": "stderr",
     "output_type": "stream",
     "text": [
      "Vendor:  Continuum Analytics, Inc.\n",
      "Package: mkl\n",
      "Message: trial mode expires in 8 days\n"
     ]
    }
   ],
   "source": [
    "\n",
    "from __future__ import print_function\n",
    "\n",
    "import lasagne\n",
    "import theano\n",
    "import theano.tensor as T\n",
    "import os\n",
    "import time\n",
    "import plac\n",
    "import numpy as np\n",
    "import pickle\n",
    "import hickle\n",
    "import sklearn.cross_validation\n",
    "import skimage.transform\n",
    "from PIL import Image\n",
    "\n",
    "import sys\n",
    "sys.path.append('C:/Anaconda/Lib/site-packages')\n",
    "\n",
    "import cv2\n"
   ]
  },
  {
   "cell_type": "code",
   "execution_count": 2,
   "metadata": {
    "collapsed": true
   },
   "outputs": [],
   "source": [
    "DATA_DIR = 'C:/Users/thoma/Documents/00GitHub/00_LOCAL_ONLY/rbc_cnn_sync/data'"
   ]
  },
  {
   "cell_type": "code",
   "execution_count": 3,
   "metadata": {
    "collapsed": false
   },
   "outputs": [],
   "source": [
    "d = hickle.load('{}/dataset.hkl'.format(DATA_DIR))\n",
    "\n",
    "#GROUPS = d['GROUPS']\n",
    "GROUPS = {'Normal': 0, 'Abnormal': 1}\n",
    "labels = []\n",
    "images = []\n",
    "for y, x in zip(d['y'], d['X']):\n",
    "    if y not in GROUPS:\n",
    "        continue\n",
    "    labels.append(GROUPS[y])\n",
    "    images.append(x)\n",
    "labels = np.array(labels)\n",
    "images = np.array(images)"
   ]
  },
  {
   "cell_type": "code",
   "execution_count": 10,
   "metadata": {
    "collapsed": false
   },
   "outputs": [
    {
     "data": {
      "text/plain": [
       "(50L, 50L, 3L)"
      ]
     },
     "execution_count": 10,
     "metadata": {},
     "output_type": "execute_result"
    }
   ],
   "source": [
    "x = images[0]\n",
    "# x = x.swapaxes(0, 2)\n",
    "x.shape"
   ]
  },
  {
   "cell_type": "code",
   "execution_count": 11,
   "metadata": {
    "collapsed": false
   },
   "outputs": [
    {
     "data": {
      "text/plain": [
       "-1"
      ]
     },
     "execution_count": 11,
     "metadata": {},
     "output_type": "execute_result"
    }
   ],
   "source": [
    "rng = None\n",
    "seed = 0\n",
    "# init RandomState object\n",
    "if rng is None:\n",
    "    rng = np.random.RandomState(seed)\n",
    "\n",
    "# init int var of unifrom distribution from RandomState obj\n",
    "ang = rng.uniform(-20, 20)\n",
    "\n",
    "#rotate based on angle and x \n",
    "x = skimage.transform.rotate(x, ang, order=0)\n",
    "\n",
    "if rng.randint(2):\n",
    "    x = np.fliplr(x)\n",
    "if rng.randint(2):\n",
    "    x = np.flipud(x)\n",
    "if rng.randint(2):\n",
    "    x = np.rot90(x)\n",
    "\n",
    "#cropx, cropy = rng.randint(0, 18, 2)\n",
    "#x = x[cropy:cropy + 32, cropx:cropx + 32]\n",
    "\n",
    "# x = x.swapaxes(0, 2)\n",
    "x = x[::-1]\n",
    "cv2.imshow(\"cropped\", x)\n",
    "cv2.waitKey(0)"
   ]
  },
  {
   "cell_type": "code",
   "execution_count": null,
   "metadata": {
    "collapsed": false
   },
   "outputs": [],
   "source": [
    "images = images / 255. - 0.5\n",
    "im = images[1]\n",
    "cv2.imshow(\"cropped\", im)\n",
    "cv2.waitKey(0)"
   ]
  }
 ],
 "metadata": {
  "kernelspec": {
   "display_name": "Python 2",
   "language": "python",
   "name": "python2"
  },
  "language_info": {
   "codemirror_mode": {
    "name": "ipython",
    "version": 2
   },
   "file_extension": ".py",
   "mimetype": "text/x-python",
   "name": "python",
   "nbconvert_exporter": "python",
   "pygments_lexer": "ipython2",
   "version": "2.7.10"
  }
 },
 "nbformat": 4,
 "nbformat_minor": 0
}
